{
 "cells": [
  {
   "cell_type": "code",
   "execution_count": 53,
   "metadata": {},
   "outputs": [],
   "source": [
    "import pandas as pd\n",
    "# The DataFrame 'df' is not displaying the headers correctly due to the initial row misalignment. \n",
    "# We need to adjust this first. Let's reload the data and skip the first row which seems to be incorrect.\n",
    "df_corrected = pd.read_csv('raw_data/lex.csv', header=None)\n",
    "\n",
    "# Now we define the first row as the header\n",
    "df_corrected.columns = df_corrected.iloc[0]\n",
    "df_corrected = df_corrected.drop(df_corrected.index[0])\n",
    "\n",
    "# The headers now should be countries, let's transpose the data to make countries as one of the columns\n",
    "df_transposed = df_corrected.set_index(df_corrected.columns[0]).T\n",
    "df_transposed.reset_index(inplace=True)\n",
    "df_transposed.rename(columns={df_transposed.columns[0]: 'year'}, inplace=True)\n",
    "\n",
    "# Melt the transposed dataframe to get \"country, year, GDP per capita\" format\n",
    "df_melted = pd.melt(df_transposed, id_vars=['year'], var_name='country', value_name='life_expectancy')"
   ]
  },
  {
   "cell_type": "code",
   "execution_count": 54,
   "metadata": {},
   "outputs": [
    {
     "data": {
      "text/plain": [
       "year               float64\n",
       "country             object\n",
       "life_expectancy    float64\n",
       "dtype: object"
      ]
     },
     "execution_count": 54,
     "metadata": {},
     "output_type": "execute_result"
    }
   ],
   "source": [
    "df_melted.dtypes"
   ]
  },
  {
   "cell_type": "code",
   "execution_count": 55,
   "metadata": {},
   "outputs": [
    {
     "data": {
      "text/html": [
       "<div>\n",
       "<style scoped>\n",
       "    .dataframe tbody tr th:only-of-type {\n",
       "        vertical-align: middle;\n",
       "    }\n",
       "\n",
       "    .dataframe tbody tr th {\n",
       "        vertical-align: top;\n",
       "    }\n",
       "\n",
       "    .dataframe thead th {\n",
       "        text-align: right;\n",
       "    }\n",
       "</style>\n",
       "<table border=\"1\" class=\"dataframe\">\n",
       "  <thead>\n",
       "    <tr style=\"text-align: right;\">\n",
       "      <th></th>\n",
       "      <th>year</th>\n",
       "      <th>country</th>\n",
       "      <th>life_expectancy</th>\n",
       "    </tr>\n",
       "  </thead>\n",
       "  <tbody>\n",
       "    <tr>\n",
       "      <th>0</th>\n",
       "      <td>1800.0</td>\n",
       "      <td>Afghanistan</td>\n",
       "      <td>28.2</td>\n",
       "    </tr>\n",
       "    <tr>\n",
       "      <th>1</th>\n",
       "      <td>1801.0</td>\n",
       "      <td>Afghanistan</td>\n",
       "      <td>28.2</td>\n",
       "    </tr>\n",
       "    <tr>\n",
       "      <th>2</th>\n",
       "      <td>1802.0</td>\n",
       "      <td>Afghanistan</td>\n",
       "      <td>28.2</td>\n",
       "    </tr>\n",
       "    <tr>\n",
       "      <th>3</th>\n",
       "      <td>1803.0</td>\n",
       "      <td>Afghanistan</td>\n",
       "      <td>28.2</td>\n",
       "    </tr>\n",
       "    <tr>\n",
       "      <th>4</th>\n",
       "      <td>1804.0</td>\n",
       "      <td>Afghanistan</td>\n",
       "      <td>28.2</td>\n",
       "    </tr>\n",
       "    <tr>\n",
       "      <th>...</th>\n",
       "      <td>...</td>\n",
       "      <td>...</td>\n",
       "      <td>...</td>\n",
       "    </tr>\n",
       "    <tr>\n",
       "      <th>58991</th>\n",
       "      <td>2096.0</td>\n",
       "      <td>Zimbabwe</td>\n",
       "      <td>70.8</td>\n",
       "    </tr>\n",
       "    <tr>\n",
       "      <th>58992</th>\n",
       "      <td>2097.0</td>\n",
       "      <td>Zimbabwe</td>\n",
       "      <td>71.0</td>\n",
       "    </tr>\n",
       "    <tr>\n",
       "      <th>58993</th>\n",
       "      <td>2098.0</td>\n",
       "      <td>Zimbabwe</td>\n",
       "      <td>71.1</td>\n",
       "    </tr>\n",
       "    <tr>\n",
       "      <th>58994</th>\n",
       "      <td>2099.0</td>\n",
       "      <td>Zimbabwe</td>\n",
       "      <td>71.2</td>\n",
       "    </tr>\n",
       "    <tr>\n",
       "      <th>58995</th>\n",
       "      <td>2100.0</td>\n",
       "      <td>Zimbabwe</td>\n",
       "      <td>71.3</td>\n",
       "    </tr>\n",
       "  </tbody>\n",
       "</table>\n",
       "<p>58996 rows × 3 columns</p>\n",
       "</div>"
      ],
      "text/plain": [
       "         year      country  life_expectancy\n",
       "0      1800.0  Afghanistan             28.2\n",
       "1      1801.0  Afghanistan             28.2\n",
       "2      1802.0  Afghanistan             28.2\n",
       "3      1803.0  Afghanistan             28.2\n",
       "4      1804.0  Afghanistan             28.2\n",
       "...       ...          ...              ...\n",
       "58991  2096.0     Zimbabwe             70.8\n",
       "58992  2097.0     Zimbabwe             71.0\n",
       "58993  2098.0     Zimbabwe             71.1\n",
       "58994  2099.0     Zimbabwe             71.2\n",
       "58995  2100.0     Zimbabwe             71.3\n",
       "\n",
       "[58996 rows x 3 columns]"
      ]
     },
     "execution_count": 55,
     "metadata": {},
     "output_type": "execute_result"
    }
   ],
   "source": [
    "df_melted"
   ]
  },
  {
   "cell_type": "code",
   "execution_count": 14,
   "metadata": {},
   "outputs": [],
   "source": [
    "def reformatGDP(gdp):\n",
    "    gdp_str = str(gdp).lower()\n",
    "    if 'k' in gdp_str:\n",
    "        new_str = gdp_str.replace('k', '')\n",
    "        return float(new_str) * 1000\n",
    "    return float(gdp)\n",
    "    "
   ]
  },
  {
   "cell_type": "code",
   "execution_count": null,
   "metadata": {},
   "outputs": [
    {
     "name": "stdout",
     "output_type": "stream",
     "text": [
      "187.0\n"
     ]
    }
   ],
   "source": [
    "print(reformatGDP(187))"
   ]
  },
  {
   "cell_type": "code",
   "execution_count": 15,
   "metadata": {},
   "outputs": [],
   "source": [
    "df_melted['life_expectancy'] = df_melted['life_expectancy'].map(reformatGDP)"
   ]
  },
  {
   "cell_type": "code",
   "execution_count": 16,
   "metadata": {},
   "outputs": [],
   "source": [
    "df.to_csv('reformatted_data/reformatted_life_expectancy.csv', index=False)"
   ]
  },
  {
   "cell_type": "code",
   "execution_count": 58,
   "metadata": {},
   "outputs": [
    {
     "data": {
      "text/html": [
       "<div>\n",
       "<style scoped>\n",
       "    .dataframe tbody tr th:only-of-type {\n",
       "        vertical-align: middle;\n",
       "    }\n",
       "\n",
       "    .dataframe tbody tr th {\n",
       "        vertical-align: top;\n",
       "    }\n",
       "\n",
       "    .dataframe thead th {\n",
       "        text-align: right;\n",
       "    }\n",
       "</style>\n",
       "<table border=\"1\" class=\"dataframe\">\n",
       "  <thead>\n",
       "    <tr style=\"text-align: right;\">\n",
       "      <th></th>\n",
       "      <th>year</th>\n",
       "      <th>country</th>\n",
       "      <th>life_expectancy</th>\n",
       "    </tr>\n",
       "  </thead>\n",
       "  <tbody>\n",
       "    <tr>\n",
       "      <th>0</th>\n",
       "      <td>1800.0</td>\n",
       "      <td>Afghanistan</td>\n",
       "      <td>28.2</td>\n",
       "    </tr>\n",
       "    <tr>\n",
       "      <th>1</th>\n",
       "      <td>1801.0</td>\n",
       "      <td>Afghanistan</td>\n",
       "      <td>28.2</td>\n",
       "    </tr>\n",
       "    <tr>\n",
       "      <th>2</th>\n",
       "      <td>1802.0</td>\n",
       "      <td>Afghanistan</td>\n",
       "      <td>28.2</td>\n",
       "    </tr>\n",
       "    <tr>\n",
       "      <th>3</th>\n",
       "      <td>1803.0</td>\n",
       "      <td>Afghanistan</td>\n",
       "      <td>28.2</td>\n",
       "    </tr>\n",
       "    <tr>\n",
       "      <th>4</th>\n",
       "      <td>1804.0</td>\n",
       "      <td>Afghanistan</td>\n",
       "      <td>28.2</td>\n",
       "    </tr>\n",
       "  </tbody>\n",
       "</table>\n",
       "</div>"
      ],
      "text/plain": [
       "     year      country  life_expectancy\n",
       "0  1800.0  Afghanistan             28.2\n",
       "1  1801.0  Afghanistan             28.2\n",
       "2  1802.0  Afghanistan             28.2\n",
       "3  1803.0  Afghanistan             28.2\n",
       "4  1804.0  Afghanistan             28.2"
      ]
     },
     "execution_count": 58,
     "metadata": {},
     "output_type": "execute_result"
    }
   ],
   "source": [
    "df_melted.head()"
   ]
  },
  {
   "cell_type": "code",
   "execution_count": 3,
   "metadata": {},
   "outputs": [],
   "source": [
    "import pandas as pd"
   ]
  },
  {
   "cell_type": "code",
   "execution_count": 14,
   "metadata": {},
   "outputs": [],
   "source": [
    "df = pd.read_csv('reformatted_data/reformatted_life_expectancy.csv')"
   ]
  },
  {
   "cell_type": "code",
   "execution_count": 22,
   "metadata": {},
   "outputs": [],
   "source": [
    "education_df2 = education_df[education_df['mean_number_of_years_in_school']>0]"
   ]
  },
  {
   "cell_type": "code",
   "execution_count": 23,
   "metadata": {},
   "outputs": [
    {
     "data": {
      "text/plain": [
       "(7000, 3)"
      ]
     },
     "execution_count": 23,
     "metadata": {},
     "output_type": "execute_result"
    }
   ],
   "source": [
    "education_df2.shape"
   ]
  },
  {
   "cell_type": "code",
   "execution_count": 24,
   "metadata": {},
   "outputs": [
    {
     "data": {
      "text/plain": [
       "(7000, 3)"
      ]
     },
     "execution_count": 24,
     "metadata": {},
     "output_type": "execute_result"
    }
   ],
   "source": [
    "education_df.shape"
   ]
  },
  {
   "cell_type": "code",
   "execution_count": 75,
   "metadata": {},
   "outputs": [
    {
     "data": {
      "text/plain": [
       "year              0\n",
       "country           0\n",
       "co2_per_capita    0\n",
       "dtype: int64"
      ]
     },
     "execution_count": 75,
     "metadata": {},
     "output_type": "execute_result"
    }
   ],
   "source": [
    "df.isnull().sum()"
   ]
  },
  {
   "cell_type": "code",
   "execution_count": 23,
   "metadata": {},
   "outputs": [
    {
     "name": "stdout",
     "output_type": "stream",
     "text": [
      "1800\n"
     ]
    }
   ],
   "source": [
    "value = '1800.0'\n",
    "int_value = int(float(value))\n",
    "print(int_value)"
   ]
  },
  {
   "cell_type": "code",
   "execution_count": 32,
   "metadata": {},
   "outputs": [],
   "source": [
    "df.rename(columns={'life_expectancy': 'gender_ratio_of_mean_years_in_school'}, inplace=True)"
   ]
  },
  {
   "cell_type": "code",
   "execution_count": 56,
   "metadata": {},
   "outputs": [],
   "source": [
    "def date_to_int(year):\n",
    "    return int(float(year))"
   ]
  },
  {
   "cell_type": "code",
   "execution_count": 59,
   "metadata": {},
   "outputs": [],
   "source": [
    "df_melted['year'] = df_melted['year'].map(date_to_int)"
   ]
  },
  {
   "cell_type": "code",
   "execution_count": 70,
   "metadata": {},
   "outputs": [],
   "source": [
    "df_2024 = df[df['year']==2024]"
   ]
  },
  {
   "cell_type": "code",
   "execution_count": 71,
   "metadata": {},
   "outputs": [
    {
     "data": {
      "text/html": [
       "<div>\n",
       "<style scoped>\n",
       "    .dataframe tbody tr th:only-of-type {\n",
       "        vertical-align: middle;\n",
       "    }\n",
       "\n",
       "    .dataframe tbody tr th {\n",
       "        vertical-align: top;\n",
       "    }\n",
       "\n",
       "    .dataframe thead th {\n",
       "        text-align: right;\n",
       "    }\n",
       "</style>\n",
       "<table border=\"1\" class=\"dataframe\">\n",
       "  <thead>\n",
       "    <tr style=\"text-align: right;\">\n",
       "      <th></th>\n",
       "      <th>year</th>\n",
       "      <th>country</th>\n",
       "      <th>gdp_per_capita</th>\n",
       "    </tr>\n",
       "  </thead>\n",
       "  <tbody>\n",
       "    <tr>\n",
       "      <th>224</th>\n",
       "      <td>2024</td>\n",
       "      <td>Afghanistan</td>\n",
       "      <td>1370.0</td>\n",
       "    </tr>\n",
       "    <tr>\n",
       "      <th>525</th>\n",
       "      <td>2024</td>\n",
       "      <td>Angola</td>\n",
       "      <td>5820.0</td>\n",
       "    </tr>\n",
       "    <tr>\n",
       "      <th>826</th>\n",
       "      <td>2024</td>\n",
       "      <td>Albania</td>\n",
       "      <td>16700.0</td>\n",
       "    </tr>\n",
       "    <tr>\n",
       "      <th>1127</th>\n",
       "      <td>2024</td>\n",
       "      <td>Andorra</td>\n",
       "      <td>55200.0</td>\n",
       "    </tr>\n",
       "    <tr>\n",
       "      <th>1428</th>\n",
       "      <td>2024</td>\n",
       "      <td>UAE</td>\n",
       "      <td>76900.0</td>\n",
       "    </tr>\n",
       "    <tr>\n",
       "      <th>...</th>\n",
       "      <td>...</td>\n",
       "      <td>...</td>\n",
       "      <td>...</td>\n",
       "    </tr>\n",
       "    <tr>\n",
       "      <th>57414</th>\n",
       "      <td>2024</td>\n",
       "      <td>Samoa</td>\n",
       "      <td>5650.0</td>\n",
       "    </tr>\n",
       "    <tr>\n",
       "      <th>57715</th>\n",
       "      <td>2024</td>\n",
       "      <td>Yemen</td>\n",
       "      <td>1720.0</td>\n",
       "    </tr>\n",
       "    <tr>\n",
       "      <th>58016</th>\n",
       "      <td>2024</td>\n",
       "      <td>South Africa</td>\n",
       "      <td>13400.0</td>\n",
       "    </tr>\n",
       "    <tr>\n",
       "      <th>58317</th>\n",
       "      <td>2024</td>\n",
       "      <td>Zambia</td>\n",
       "      <td>3370.0</td>\n",
       "    </tr>\n",
       "    <tr>\n",
       "      <th>58618</th>\n",
       "      <td>2024</td>\n",
       "      <td>Zimbabwe</td>\n",
       "      <td>2220.0</td>\n",
       "    </tr>\n",
       "  </tbody>\n",
       "</table>\n",
       "<p>195 rows × 3 columns</p>\n",
       "</div>"
      ],
      "text/plain": [
       "       year       country  gdp_per_capita\n",
       "224    2024   Afghanistan          1370.0\n",
       "525    2024        Angola          5820.0\n",
       "826    2024       Albania         16700.0\n",
       "1127   2024       Andorra         55200.0\n",
       "1428   2024           UAE         76900.0\n",
       "...     ...           ...             ...\n",
       "57414  2024         Samoa          5650.0\n",
       "57715  2024         Yemen          1720.0\n",
       "58016  2024  South Africa         13400.0\n",
       "58317  2024        Zambia          3370.0\n",
       "58618  2024      Zimbabwe          2220.0\n",
       "\n",
       "[195 rows x 3 columns]"
      ]
     },
     "execution_count": 71,
     "metadata": {},
     "output_type": "execute_result"
    }
   ],
   "source": [
    "df_2024"
   ]
  },
  {
   "cell_type": "code",
   "execution_count": 72,
   "metadata": {},
   "outputs": [],
   "source": [
    "df_2024.to_csv('2024ONLY_reformatted_gdp.csv', index=False)"
   ]
  },
  {
   "cell_type": "markdown",
   "metadata": {},
   "source": [
    "##### Removing outliers for distribution plot "
   ]
  },
  {
   "cell_type": "code",
   "execution_count": 4,
   "metadata": {},
   "outputs": [
    {
     "name": "stdout",
     "output_type": "stream",
     "text": [
      "Original dataset size: 100\n",
      "Filtered dataset size: 100\n"
     ]
    }
   ],
   "source": [
    "import pandas as pd\n",
    "import numpy as np\n",
    "\n",
    "# Example dataset with a 'Value' column\n",
    "df = pd.read_csv('reformatted_data/reformatted_gdp.csv')\n",
    "\n",
    "# Function to remove outliers using the IQR method\n",
    "def remove_outliers(df, column_name):\n",
    "    Q1 = df[column_name].quantile(0.25)\n",
    "    Q3 = df[column_name].quantile(0.75)\n",
    "    IQR = Q3 - Q1\n",
    "    \n",
    "    lower_bound = Q1 - 2 * IQR\n",
    "    upper_bound = Q3 + 2 * IQR\n",
    "    \n",
    "    # Filtering the DataFrame based on the IQR criteria\n",
    "    filtered_df = df[(df[column_name] >= lower_bound) & (df[column_name] <= upper_bound)]\n",
    "    return filtered_df\n",
    "\n",
    "# Applying the function to remove outliers\n",
    "filtered_data = remove_outliers(data, 'Value')\n",
    "\n",
    "print(f\"Original dataset size: {len(data)}\")\n",
    "print(f\"Filtered dataset size: {len(filtered_data)}\")\n"
   ]
  },
  {
   "cell_type": "code",
   "execution_count": 12,
   "metadata": {},
   "outputs": [
    {
     "data": {
      "text/plain": [
       "((43262, 3), (39742, 3))"
      ]
     },
     "execution_count": 12,
     "metadata": {},
     "output_type": "execute_result"
    }
   ],
   "source": [
    "# To iterate through all the years from 1800 to 2024, remove outliers for each year,\n",
    "# and then concatenate the results into a single DataFrame, follow these steps:\n",
    "\n",
    "def remove_outliers_by_year_all(df, start_year=1800, end_year=2024):\n",
    "    \"\"\"\n",
    "    Removes outliers for GDP per capita values outside the Interquartile Range (IQR)\n",
    "    for each year within the specified range.\n",
    "    \n",
    "    Parameters:\n",
    "    - df: DataFrame containing the columns 'year', 'country', and 'gdp_per_capita'\n",
    "    - start_year: The start year of the range (inclusive)\n",
    "    - end_year: The end year of the range (inclusive)\n",
    "    \n",
    "    Returns:\n",
    "    - A DataFrame without outliers for the specified range of years\n",
    "    \"\"\"\n",
    "    filtered_data_frames = []  # To store the filtered data for each year\n",
    "    \n",
    "    for year in range(start_year, end_year + 1):\n",
    "        year_data = df[df['year'] == year]\n",
    "        Q1 = year_data['co2_per_capita'].quantile(0.25)\n",
    "        Q3 = year_data['co2_per_capita'].quantile(0.75)\n",
    "        IQR = Q3 - Q1\n",
    "        lower_bound = Q1 - 3 * IQR\n",
    "        upper_bound = Q3 + 3 * IQR\n",
    "        filtered_year_data = year_data[(year_data['co2_per_capita'] >= lower_bound) & \n",
    "                                       (year_data['co2_per_capita'] <= upper_bound)]\n",
    "        filtered_data_frames.append(filtered_year_data)\n",
    "    \n",
    "    # Concatenate all the yearly filtered data into one DataFrame\n",
    "    filtered_data = pd.concat(filtered_data_frames)\n",
    "    return filtered_data\n",
    "\n",
    "# Applying the function to the entire dataset\n",
    "gdp_df = pd.read_csv('reformatted_data/reformatted_co2.csv')\n",
    "gdp_df['co2_per_capita'] = pd.to_numeric(gdp_df['co2_per_capita'], errors='coerce')\n",
    "filtered_gdp_all_years = remove_outliers_by_year_all(gdp_df)\n",
    "\n",
    "# Display the shape of the original and the filtered dataset to compare\n",
    "original_shape = gdp_df.shape\n",
    "filtered_shape = filtered_gdp_all_years.shape\n",
    "\n",
    "original_shape, filtered_shape\n"
   ]
  },
  {
   "cell_type": "code",
   "execution_count": 13,
   "metadata": {},
   "outputs": [],
   "source": [
    "filtered_gdp_all_years.to_csv('reformatted_data/OUTLIERS_REMOVED_reformatted_co2.csv', index=False)"
   ]
  },
  {
   "cell_type": "code",
   "execution_count": 4,
   "metadata": {},
   "outputs": [],
   "source": [
    "gdp_df = pd.read_csv('reformatted_data/reformatted_gdp.csv')"
   ]
  },
  {
   "cell_type": "code",
   "execution_count": 5,
   "metadata": {},
   "outputs": [],
   "source": [
    "co2_df = pd.read_csv('reformatted_data/reformatted_CO2.csv')"
   ]
  },
  {
   "cell_type": "code",
   "execution_count": 6,
   "metadata": {},
   "outputs": [],
   "source": [
    "life_expectancy_df = pd.read_csv('reformatted_data/reformatted_life_expectancy.csv')"
   ]
  },
  {
   "cell_type": "code",
   "execution_count": 7,
   "metadata": {},
   "outputs": [],
   "source": [
    "education_df = pd.read_csv('reformatted_data/reformatted_gender_equality.csv')"
   ]
  },
  {
   "cell_type": "code",
   "execution_count": 15,
   "metadata": {},
   "outputs": [
    {
     "data": {
      "text/html": [
       "<div>\n",
       "<style scoped>\n",
       "    .dataframe tbody tr th:only-of-type {\n",
       "        vertical-align: middle;\n",
       "    }\n",
       "\n",
       "    .dataframe tbody tr th {\n",
       "        vertical-align: top;\n",
       "    }\n",
       "\n",
       "    .dataframe thead th {\n",
       "        text-align: right;\n",
       "    }\n",
       "</style>\n",
       "<table border=\"1\" class=\"dataframe\">\n",
       "  <thead>\n",
       "    <tr style=\"text-align: right;\">\n",
       "      <th></th>\n",
       "      <th>year</th>\n",
       "      <th>country</th>\n",
       "      <th>gdp_per_capita</th>\n",
       "      <th>life_expectancy</th>\n",
       "      <th>co2_per_capita</th>\n",
       "      <th>mean_number_of_years_in_school</th>\n",
       "    </tr>\n",
       "  </thead>\n",
       "  <tbody>\n",
       "    <tr>\n",
       "      <th>0</th>\n",
       "      <td>1800</td>\n",
       "      <td>Afghanistan</td>\n",
       "      <td>599.0</td>\n",
       "      <td>28.2</td>\n",
       "      <td>0.001</td>\n",
       "      <td>NaN</td>\n",
       "    </tr>\n",
       "    <tr>\n",
       "      <th>1</th>\n",
       "      <td>1801</td>\n",
       "      <td>Afghanistan</td>\n",
       "      <td>599.0</td>\n",
       "      <td>28.2</td>\n",
       "      <td>0.001</td>\n",
       "      <td>NaN</td>\n",
       "    </tr>\n",
       "    <tr>\n",
       "      <th>2</th>\n",
       "      <td>1802</td>\n",
       "      <td>Afghanistan</td>\n",
       "      <td>599.0</td>\n",
       "      <td>28.2</td>\n",
       "      <td>0.001</td>\n",
       "      <td>NaN</td>\n",
       "    </tr>\n",
       "    <tr>\n",
       "      <th>3</th>\n",
       "      <td>1803</td>\n",
       "      <td>Afghanistan</td>\n",
       "      <td>599.0</td>\n",
       "      <td>28.2</td>\n",
       "      <td>0.001</td>\n",
       "      <td>NaN</td>\n",
       "    </tr>\n",
       "    <tr>\n",
       "      <th>4</th>\n",
       "      <td>1804</td>\n",
       "      <td>Afghanistan</td>\n",
       "      <td>599.0</td>\n",
       "      <td>28.2</td>\n",
       "      <td>0.001</td>\n",
       "      <td>NaN</td>\n",
       "    </tr>\n",
       "  </tbody>\n",
       "</table>\n",
       "</div>"
      ],
      "text/plain": [
       "   year      country  gdp_per_capita  life_expectancy co2_per_capita  \\\n",
       "0  1800  Afghanistan           599.0             28.2          0.001   \n",
       "1  1801  Afghanistan           599.0             28.2          0.001   \n",
       "2  1802  Afghanistan           599.0             28.2          0.001   \n",
       "3  1803  Afghanistan           599.0             28.2          0.001   \n",
       "4  1804  Afghanistan           599.0             28.2          0.001   \n",
       "\n",
       "   mean_number_of_years_in_school  \n",
       "0                             NaN  \n",
       "1                             NaN  \n",
       "2                             NaN  \n",
       "3                             NaN  \n",
       "4                             NaN  "
      ]
     },
     "execution_count": 15,
     "metadata": {},
     "output_type": "execute_result"
    }
   ],
   "source": [
    "final_merged_df2 .head()"
   ]
  },
  {
   "cell_type": "code",
   "execution_count": 17,
   "metadata": {},
   "outputs": [
    {
     "data": {
      "text/html": [
       "<div>\n",
       "<style scoped>\n",
       "    .dataframe tbody tr th:only-of-type {\n",
       "        vertical-align: middle;\n",
       "    }\n",
       "\n",
       "    .dataframe tbody tr th {\n",
       "        vertical-align: top;\n",
       "    }\n",
       "\n",
       "    .dataframe thead th {\n",
       "        text-align: right;\n",
       "    }\n",
       "</style>\n",
       "<table border=\"1\" class=\"dataframe\">\n",
       "  <thead>\n",
       "    <tr style=\"text-align: right;\">\n",
       "      <th></th>\n",
       "      <th>year</th>\n",
       "      <th>country</th>\n",
       "      <th>gdp_per_capita</th>\n",
       "      <th>life_expectancy</th>\n",
       "      <th>co2_per_capita</th>\n",
       "      <th>mean_number_of_years_in_school</th>\n",
       "    </tr>\n",
       "  </thead>\n",
       "  <tbody>\n",
       "    <tr>\n",
       "      <th>0</th>\n",
       "      <td>1800</td>\n",
       "      <td>Afghanistan</td>\n",
       "      <td>599.0</td>\n",
       "      <td>28.2</td>\n",
       "      <td>0.001</td>\n",
       "      <td>NaN</td>\n",
       "    </tr>\n",
       "    <tr>\n",
       "      <th>1</th>\n",
       "      <td>1801</td>\n",
       "      <td>Afghanistan</td>\n",
       "      <td>599.0</td>\n",
       "      <td>28.2</td>\n",
       "      <td>0.001</td>\n",
       "      <td>NaN</td>\n",
       "    </tr>\n",
       "    <tr>\n",
       "      <th>2</th>\n",
       "      <td>1802</td>\n",
       "      <td>Afghanistan</td>\n",
       "      <td>599.0</td>\n",
       "      <td>28.2</td>\n",
       "      <td>0.001</td>\n",
       "      <td>NaN</td>\n",
       "    </tr>\n",
       "    <tr>\n",
       "      <th>3</th>\n",
       "      <td>1803</td>\n",
       "      <td>Afghanistan</td>\n",
       "      <td>599.0</td>\n",
       "      <td>28.2</td>\n",
       "      <td>0.001</td>\n",
       "      <td>NaN</td>\n",
       "    </tr>\n",
       "    <tr>\n",
       "      <th>4</th>\n",
       "      <td>1804</td>\n",
       "      <td>Afghanistan</td>\n",
       "      <td>599.0</td>\n",
       "      <td>28.2</td>\n",
       "      <td>0.001</td>\n",
       "      <td>NaN</td>\n",
       "    </tr>\n",
       "  </tbody>\n",
       "</table>\n",
       "</div>"
      ],
      "text/plain": [
       "   year      country  gdp_per_capita  life_expectancy co2_per_capita  \\\n",
       "0  1800  Afghanistan           599.0             28.2          0.001   \n",
       "1  1801  Afghanistan           599.0             28.2          0.001   \n",
       "2  1802  Afghanistan           599.0             28.2          0.001   \n",
       "3  1803  Afghanistan           599.0             28.2          0.001   \n",
       "4  1804  Afghanistan           599.0             28.2          0.001   \n",
       "\n",
       "   mean_number_of_years_in_school  \n",
       "0                             NaN  \n",
       "1                             NaN  \n",
       "2                             NaN  \n",
       "3                             NaN  \n",
       "4                             NaN  "
      ]
     },
     "execution_count": 17,
     "metadata": {},
     "output_type": "execute_result"
    }
   ],
   "source": [
    "# Merge the GDP and life expectancy DataFrames first\n",
    "merged_df1 = pd.merge(gdp_df, life_expectancy_df, on=['country', 'year'], how='outer')\n",
    "\n",
    "# Merge the resulting DataFrame with the CO2 emissions DataFrame\n",
    "merged_df2 = pd.merge(merged_df1, co2_df, on=['country', 'year'], how='outer')\n",
    "\n",
    "# Merge the resulting DataFrame with the education DataFrame\n",
    "final_merged_df2 = pd.merge(merged_df2, education_df, on=['country', 'year'], how='outer')\n",
    "\n",
    "# Display the first few rows of the final merged DataFrame\n",
    "final_merged_df2.head()\n"
   ]
  },
  {
   "cell_type": "code",
   "execution_count": 11,
   "metadata": {},
   "outputs": [],
   "source": [
    "final_merged_df2.to_csv('reformatted_data/reformatted_all.csv', index=False)"
   ]
  },
  {
   "cell_type": "code",
   "execution_count": 25,
   "metadata": {},
   "outputs": [],
   "source": [
    "df = pd.read_csv('reformatted_data/reformatted_all.csv')"
   ]
  },
  {
   "cell_type": "code",
   "execution_count": 26,
   "metadata": {},
   "outputs": [],
   "source": [
    "# Merge the GDP and life expectancy DataFrames first\n",
    "merged_with_education_df = pd.merge(df, education_df, on=['country', 'year'], how='outer')"
   ]
  },
  {
   "cell_type": "code",
   "execution_count": 28,
   "metadata": {},
   "outputs": [],
   "source": [
    "merged_with_education_df.to_csv('reformatted_data/reformatted_all_inc_education.csv', index=False)"
   ]
  },
  {
   "cell_type": "code",
   "execution_count": 19,
   "metadata": {},
   "outputs": [
    {
     "data": {
      "text/plain": [
       "year                              0\n",
       "country                           0\n",
       "mean_number_of_years_in_school    0\n",
       "dtype: int64"
      ]
     },
     "execution_count": 19,
     "metadata": {},
     "output_type": "execute_result"
    }
   ],
   "source": [
    "education_df.isnull().sum()"
   ]
  },
  {
   "cell_type": "code",
   "execution_count": 19,
   "metadata": {},
   "outputs": [],
   "source": [
    "df = df.dropna()"
   ]
  },
  {
   "cell_type": "code",
   "execution_count": 20,
   "metadata": {},
   "outputs": [
    {
     "data": {
      "text/plain": [
       "(41986, 5)"
      ]
     },
     "execution_count": 20,
     "metadata": {},
     "output_type": "execute_result"
    }
   ],
   "source": [
    "df.shape"
   ]
  },
  {
   "cell_type": "code",
   "execution_count": 21,
   "metadata": {},
   "outputs": [],
   "source": [
    "df.to_csv('reformatted_data/reformatted_all.csv', index=False)"
   ]
  },
  {
   "cell_type": "code",
   "execution_count": 1,
   "metadata": {},
   "outputs": [
    {
     "data": {
      "text/plain": [
       "(       country  1970  1971  1972  1973  1974  1975  1976  1977  1978  ...  \\\n",
       " 0  Afghanistan   0.7   0.7   0.8   0.8   0.8   0.9   0.9   0.9   1.0  ...   \n",
       " 1       Angola   1.4   1.5   1.5   1.6   1.7   1.7   1.8   1.9   2.0  ...   \n",
       " 2      Albania   5.1   5.2   5.3   5.5   5.6   5.7   5.9   6.0   6.1  ...   \n",
       " 3          UAE   3.0   3.1   3.2   3.3   3.5   3.6   3.8   3.9   4.1  ...   \n",
       " 4    Argentina   5.9   6.0   6.1   6.2   6.3   6.4   6.6   6.7   6.8  ...   \n",
       " \n",
       "    2000  2001  2002  2003  2004  2005  2006  2007  2008  2009  \n",
       " 0   2.1   2.1   2.2   2.3   2.3   2.4   2.4   2.5   2.6   2.6  \n",
       " 1   4.0   4.1   4.3   4.4   4.5   4.6   4.7   4.9   5.0   5.1  \n",
       " 2   9.1   9.2   9.4   9.5   9.6   9.8   9.9  10.0  10.1  10.2  \n",
       " 3   8.0   8.2   8.4   8.5   8.7   8.8   9.0   9.2   9.3   9.5  \n",
       " 4   8.9   9.0   9.1   9.2   9.3   9.4   9.5   9.6   9.7   9.8  \n",
       " \n",
       " [5 rows x 41 columns],\n",
       "        country  1970  1971  1972  1973  1974  1975  1976  1977  1978  ...  \\\n",
       " 0  Afghanistan   0.0   0.1   0.1   0.1   0.1   0.1   0.1   0.1   0.1  ...   \n",
       " 1       Angola   0.5   0.5   0.5   0.5   0.6   0.6   0.6   0.7   0.7  ...   \n",
       " 2      Albania   3.9   4.0   4.1   4.2   4.3   4.5   4.6   4.7   4.8  ...   \n",
       " 3          UAE   1.5   1.6   1.7   1.8   1.9   2.0   2.2   2.3   2.4  ...   \n",
       " 4    Argentina   5.5   5.6   5.7   5.9   6.0   6.1   6.2   6.3   6.5  ...   \n",
       " \n",
       "    2000  2001  2002  2003  2004  2005  2006  2007  2008  2009  \n",
       " 0   0.2   0.3   0.3   0.3   0.3   0.3   0.3   0.3   0.3   0.4  \n",
       " 1   1.9   2.0   2.1   2.2   2.3   2.4   2.5   2.6   2.7   2.8  \n",
       " 2   8.0   8.2   8.3   8.5   8.6   8.8   8.9   9.1   9.2   9.4  \n",
       " 3   6.4   6.6   6.9   7.1   7.3   7.5   7.7   7.9   8.1   8.3  \n",
       " 4   9.1   9.2   9.3   9.4   9.5   9.6   9.8   9.9  10.0  10.1  \n",
       " \n",
       " [5 rows x 41 columns])"
      ]
     },
     "execution_count": 1,
     "metadata": {},
     "output_type": "execute_result"
    }
   ],
   "source": [
    "import pandas as pd\n",
    "\n",
    "# Load the datasets\n",
    "men_data_path = 'raw_data/mean_years_in_school_men_25_years_and_older.csv'\n",
    "women_data_path = 'raw_data/mean_years_in_school_women_25_years_and_older.csv'\n",
    "\n",
    "men_df = pd.read_csv(men_data_path)\n",
    "women_df = pd.read_csv(women_data_path)\n",
    "\n",
    "# Display the first few rows of each dataset\n",
    "men_df.head(), women_df.head()\n"
   ]
  },
  {
   "cell_type": "code",
   "execution_count": 4,
   "metadata": {},
   "outputs": [
    {
     "name": "stderr",
     "output_type": "stream",
     "text": [
      "/var/folders/z7/qx60p0293lsfh_9g6rxq9c740000gn/T/ipykernel_3140/3028728516.py:13: SettingWithCopyWarning: \n",
      "A value is trying to be set on a copy of a slice from a DataFrame\n",
      "\n",
      "See the caveats in the documentation: https://pandas.pydata.org/pandas-docs/stable/user_guide/indexing.html#returning-a-view-versus-a-copy\n",
      "  result_df.rename(columns={'mean_years_avg': 'mean_number_of_years_in_school'}, inplace=True)\n"
     ]
    },
    {
     "data": {
      "text/html": [
       "<div>\n",
       "<style scoped>\n",
       "    .dataframe tbody tr th:only-of-type {\n",
       "        vertical-align: middle;\n",
       "    }\n",
       "\n",
       "    .dataframe tbody tr th {\n",
       "        vertical-align: top;\n",
       "    }\n",
       "\n",
       "    .dataframe thead th {\n",
       "        text-align: right;\n",
       "    }\n",
       "</style>\n",
       "<table border=\"1\" class=\"dataframe\">\n",
       "  <thead>\n",
       "    <tr style=\"text-align: right;\">\n",
       "      <th></th>\n",
       "      <th>year</th>\n",
       "      <th>country</th>\n",
       "      <th>mean_number_of_years_in_school</th>\n",
       "    </tr>\n",
       "  </thead>\n",
       "  <tbody>\n",
       "    <tr>\n",
       "      <th>0</th>\n",
       "      <td>1970</td>\n",
       "      <td>Afghanistan</td>\n",
       "      <td>0.35</td>\n",
       "    </tr>\n",
       "    <tr>\n",
       "      <th>1</th>\n",
       "      <td>1970</td>\n",
       "      <td>Angola</td>\n",
       "      <td>0.95</td>\n",
       "    </tr>\n",
       "    <tr>\n",
       "      <th>2</th>\n",
       "      <td>1970</td>\n",
       "      <td>Albania</td>\n",
       "      <td>4.50</td>\n",
       "    </tr>\n",
       "    <tr>\n",
       "      <th>3</th>\n",
       "      <td>1970</td>\n",
       "      <td>UAE</td>\n",
       "      <td>2.25</td>\n",
       "    </tr>\n",
       "    <tr>\n",
       "      <th>4</th>\n",
       "      <td>1970</td>\n",
       "      <td>Argentina</td>\n",
       "      <td>5.70</td>\n",
       "    </tr>\n",
       "  </tbody>\n",
       "</table>\n",
       "</div>"
      ],
      "text/plain": [
       "   year      country  mean_number_of_years_in_school\n",
       "0  1970  Afghanistan                            0.35\n",
       "1  1970       Angola                            0.95\n",
       "2  1970      Albania                            4.50\n",
       "3  1970          UAE                            2.25\n",
       "4  1970    Argentina                            5.70"
      ]
     },
     "execution_count": 4,
     "metadata": {},
     "output_type": "execute_result"
    }
   ],
   "source": [
    "# Melt the dataframes to long format\n",
    "men_long = men_df.melt(id_vars=['country'], var_name='year', value_name='mean_years_men')\n",
    "women_long = women_df.melt(id_vars=['country'], var_name='year', value_name='mean_years_women')\n",
    "\n",
    "# Merge the datasets on country and year\n",
    "merged_df = pd.merge(men_long, women_long, on=['country', 'year'])\n",
    "\n",
    "# Calculate the mean number of years in school for men and women\n",
    "merged_df['mean_years_avg'] = (merged_df['mean_years_men'] + merged_df['mean_years_women']) / 2\n",
    "\n",
    "# Select and rename columns as requested\n",
    "result_df = merged_df[['year', 'country', 'mean_years_avg']]\n",
    "result_df.rename(columns={'mean_years_avg': 'mean_number_of_years_in_school'}, inplace=True)\n",
    "\n",
    "# Display the first few rows of the result\n",
    "result_df.head()\n"
   ]
  },
  {
   "cell_type": "code",
   "execution_count": 5,
   "metadata": {},
   "outputs": [],
   "source": [
    "result_df.to_csv('reformatted_data/reformatted_gender_equality.csv', index=False)"
   ]
  },
  {
   "cell_type": "code",
   "execution_count": 29,
   "metadata": {},
   "outputs": [],
   "source": [
    "import pandas as pd\n",
    "\n",
    "# Replace this with the path to your locally saved CSV file\n",
    "file_path = 'reformatted_data/reformatted_life_expectancy.csv'\n",
    "\n",
    "# Load the CSV file\n",
    "data = pd.read_csv(file_path)\n",
    "\n",
    "# Assuming 'country' is the column with the country names\n",
    "countries = data['country'].unique()\n",
    "\n",
    "# Base URL for the CIA World Factbook country pages\n",
    "base_url = \"https://www.cia.gov/the-world-factbook/countries/\"\n",
    "\n",
    "# Create a new DataFrame for country links\n",
    "country_links = pd.DataFrame({\n",
    "    'country': countries,\n",
    "    'link': [base_url + country.lower().replace(' ', '-') for country in countries]\n",
    "})\n",
    "\n",
    "# Save to a new CSV file\n",
    "country_links.to_csv('country_factbook_links.csv', index=False)\n"
   ]
  }
 ],
 "metadata": {
  "kernelspec": {
   "display_name": "Python 3",
   "language": "python",
   "name": "python3"
  },
  "language_info": {
   "codemirror_mode": {
    "name": "ipython",
    "version": 3
   },
   "file_extension": ".py",
   "mimetype": "text/x-python",
   "name": "python",
   "nbconvert_exporter": "python",
   "pygments_lexer": "ipython3",
   "version": "3.9.18"
  },
  "orig_nbformat": 4
 },
 "nbformat": 4,
 "nbformat_minor": 2
}
