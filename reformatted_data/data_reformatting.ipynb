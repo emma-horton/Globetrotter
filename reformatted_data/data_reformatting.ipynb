{
 "cells": [
  {
   "cell_type": "code",
   "execution_count": 3,
   "metadata": {},
   "outputs": [
    {
     "data": {
      "text/html": [
       "<div>\n",
       "<style scoped>\n",
       "    .dataframe tbody tr th:only-of-type {\n",
       "        vertical-align: middle;\n",
       "    }\n",
       "\n",
       "    .dataframe tbody tr th {\n",
       "        vertical-align: top;\n",
       "    }\n",
       "\n",
       "    .dataframe thead th {\n",
       "        text-align: right;\n",
       "    }\n",
       "</style>\n",
       "<table border=\"1\" class=\"dataframe\">\n",
       "  <thead>\n",
       "    <tr style=\"text-align: right;\">\n",
       "      <th></th>\n",
       "      <th>year</th>\n",
       "      <th>country</th>\n",
       "      <th>GDP per capita</th>\n",
       "    </tr>\n",
       "  </thead>\n",
       "  <tbody>\n",
       "    <tr>\n",
       "      <th>0</th>\n",
       "      <td>1800</td>\n",
       "      <td>Afghanistan</td>\n",
       "      <td>599</td>\n",
       "    </tr>\n",
       "    <tr>\n",
       "      <th>1</th>\n",
       "      <td>1801</td>\n",
       "      <td>Afghanistan</td>\n",
       "      <td>599</td>\n",
       "    </tr>\n",
       "    <tr>\n",
       "      <th>2</th>\n",
       "      <td>1802</td>\n",
       "      <td>Afghanistan</td>\n",
       "      <td>599</td>\n",
       "    </tr>\n",
       "    <tr>\n",
       "      <th>3</th>\n",
       "      <td>1803</td>\n",
       "      <td>Afghanistan</td>\n",
       "      <td>599</td>\n",
       "    </tr>\n",
       "    <tr>\n",
       "      <th>4</th>\n",
       "      <td>1804</td>\n",
       "      <td>Afghanistan</td>\n",
       "      <td>599</td>\n",
       "    </tr>\n",
       "  </tbody>\n",
       "</table>\n",
       "</div>"
      ],
      "text/plain": [
       "   year      country GDP per capita\n",
       "0  1800  Afghanistan            599\n",
       "1  1801  Afghanistan            599\n",
       "2  1802  Afghanistan            599\n",
       "3  1803  Afghanistan            599\n",
       "4  1804  Afghanistan            599"
      ]
     },
     "execution_count": 3,
     "metadata": {},
     "output_type": "execute_result"
    }
   ],
   "source": [
    "import pandas as pd\n",
    "# The DataFrame 'df' is not displaying the headers correctly due to the initial row misalignment. \n",
    "# We need to adjust this first. Let's reload the data and skip the first row which seems to be incorrect.\n",
    "df_corrected = pd.read_csv('data/gdp_pcap.csv', header=None)\n",
    "\n",
    "# Now we define the first row as the header\n",
    "df_corrected.columns = df_corrected.iloc[0]\n",
    "df_corrected = df_corrected.drop(df_corrected.index[0])\n",
    "\n",
    "# The headers now should be countries, let's transpose the data to make countries as one of the columns\n",
    "df_transposed = df_corrected.set_index(df_corrected.columns[0]).T\n",
    "df_transposed.reset_index(inplace=True)\n",
    "df_transposed.rename(columns={df_transposed.columns[0]: 'year'}, inplace=True)\n",
    "\n",
    "# Melt the transposed dataframe to get \"country, year, GDP per capita\" format\n",
    "df_melted = pd.melt(df_transposed, id_vars=['year'], var_name='country', value_name='GDP per capita')\n",
    "\n",
    "# Checking the transformed dataframe\n",
    "df_melted.head(gdp)"
   ]
  },
  {
   "cell_type": "code",
   "execution_count": 6,
   "metadata": {},
   "outputs": [
    {
     "data": {
      "text/plain": [
       "year              object\n",
       "country           object\n",
       "GDP per capita    object\n",
       "dtype: object"
      ]
     },
     "execution_count": 6,
     "metadata": {},
     "output_type": "execute_result"
    }
   ],
   "source": [
    "df_melted.dtypes"
   ]
  },
  {
   "cell_type": "code",
   "execution_count": 60,
   "metadata": {},
   "outputs": [],
   "source": [
    "def reformatGDP(gdp):\n",
    "    gdp_str = str(gdp).lower()\n",
    "    if 'k' in gdp_str:\n",
    "        new_str = gdp_str.replace('k', '')\n",
    "        return float(new_str) * 1000\n",
    "    return float(gdp)\n",
    "    "
   ]
  },
  {
   "cell_type": "code",
   "execution_count": 49,
   "metadata": {},
   "outputs": [],
   "source": [
    "def test(gdp):\n",
    "    gdp_str = str(gdp)\n",
    "    if 'K' in gdp_str:\n",
    "        return gdp_str + '!'\n",
    "    return gdp_str + '!'"
   ]
  },
  {
   "cell_type": "code",
   "execution_count": 36,
   "metadata": {},
   "outputs": [
    {
     "name": "stdout",
     "output_type": "stream",
     "text": [
      "187.0\n"
     ]
    }
   ],
   "source": [
    "print(reformatGDP(187))"
   ]
  },
  {
   "cell_type": "code",
   "execution_count": 61,
   "metadata": {},
   "outputs": [],
   "source": [
    "df_melted['GDP per capita'] = df_melted['GDP per capita'].map(reformatGDP)"
   ]
  },
  {
   "cell_type": "code",
   "execution_count": 63,
   "metadata": {},
   "outputs": [],
   "source": [
    "df_melted.to_csv('reformatted_gdp.csv', index=False)"
   ]
  },
  {
   "cell_type": "code",
   "execution_count": 62,
   "metadata": {},
   "outputs": [
    {
     "data": {
      "text/html": [
       "<div>\n",
       "<style scoped>\n",
       "    .dataframe tbody tr th:only-of-type {\n",
       "        vertical-align: middle;\n",
       "    }\n",
       "\n",
       "    .dataframe tbody tr th {\n",
       "        vertical-align: top;\n",
       "    }\n",
       "\n",
       "    .dataframe thead th {\n",
       "        text-align: right;\n",
       "    }\n",
       "</style>\n",
       "<table border=\"1\" class=\"dataframe\">\n",
       "  <thead>\n",
       "    <tr style=\"text-align: right;\">\n",
       "      <th></th>\n",
       "      <th>year</th>\n",
       "      <th>country</th>\n",
       "      <th>GDP per capita</th>\n",
       "      <th>GDP per capita reformatted</th>\n",
       "    </tr>\n",
       "  </thead>\n",
       "  <tbody>\n",
       "    <tr>\n",
       "      <th>0</th>\n",
       "      <td>1800</td>\n",
       "      <td>Afghanistan</td>\n",
       "      <td>599</td>\n",
       "      <td>599.0</td>\n",
       "    </tr>\n",
       "    <tr>\n",
       "      <th>1</th>\n",
       "      <td>1801</td>\n",
       "      <td>Afghanistan</td>\n",
       "      <td>599</td>\n",
       "      <td>599.0</td>\n",
       "    </tr>\n",
       "    <tr>\n",
       "      <th>2</th>\n",
       "      <td>1802</td>\n",
       "      <td>Afghanistan</td>\n",
       "      <td>599</td>\n",
       "      <td>599.0</td>\n",
       "    </tr>\n",
       "    <tr>\n",
       "      <th>3</th>\n",
       "      <td>1803</td>\n",
       "      <td>Afghanistan</td>\n",
       "      <td>599</td>\n",
       "      <td>599.0</td>\n",
       "    </tr>\n",
       "    <tr>\n",
       "      <th>4</th>\n",
       "      <td>1804</td>\n",
       "      <td>Afghanistan</td>\n",
       "      <td>599</td>\n",
       "      <td>599.0</td>\n",
       "    </tr>\n",
       "  </tbody>\n",
       "</table>\n",
       "</div>"
      ],
      "text/plain": [
       "   year      country GDP per capita  GDP per capita reformatted\n",
       "0  1800  Afghanistan            599                       599.0\n",
       "1  1801  Afghanistan            599                       599.0\n",
       "2  1802  Afghanistan            599                       599.0\n",
       "3  1803  Afghanistan            599                       599.0\n",
       "4  1804  Afghanistan            599                       599.0"
      ]
     },
     "execution_count": 62,
     "metadata": {},
     "output_type": "execute_result"
    }
   ],
   "source": [
    "df_melted.head()"
   ]
  },
  {
   "cell_type": "code",
   "execution_count": null,
   "metadata": {},
   "outputs": [],
   "source": []
  }
 ],
 "metadata": {
  "kernelspec": {
   "display_name": "Python 3",
   "language": "python",
   "name": "python3"
  },
  "language_info": {
   "codemirror_mode": {
    "name": "ipython",
    "version": 3
   },
   "file_extension": ".py",
   "mimetype": "text/x-python",
   "name": "python",
   "nbconvert_exporter": "python",
   "pygments_lexer": "ipython3",
   "version": "3.11.4"
  },
  "orig_nbformat": 4
 },
 "nbformat": 4,
 "nbformat_minor": 2
}
